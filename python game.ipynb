{
 "cells": [
  {
   "cell_type": "markdown",
   "metadata": {},
   "source": [
    "# **Designing Rock-Paper-Scissor Game for Python InClass Assignment**\n"
   ]
  },
  {
   "cell_type": "markdown",
   "metadata": {},
   "source": [
    "## Setup\n"
   ]
  },
  {
   "cell_type": "markdown",
   "metadata": {},
   "source": [
    "### Importing Required Libraries\n"
   ]
  },
  {
   "cell_type": "code",
   "execution_count": 1,
   "metadata": {
    "tags": []
   },
   "outputs": [],
   "source": [
    "import random       # To generate random values\n",
    "import os          # To use system specific paremeters and functions\n",
    "import re           # To use Regular Expression"
   ]
  },
  {
   "cell_type": "markdown",
   "metadata": {},
   "source": [
    "## Game Design\n",
    "\n",
    "The Game includes a simple logic encapsulated in an unconditional while loop. <br>\n",
    "The code contains the following steps:\n",
    "\n",
    "*  Taking input from the user\n",
    "*  Validating the user input\n",
    "*  Generating computer input using random function\n",
    "*  Applying games rules using if-elif-else statement\n",
    "*  Generate the output"
   ]
  },
  {
   "cell_type": "code",
   "execution_count": null,
   "metadata": {
    "tags": []
   },
   "outputs": [
    {
     "name": "stdout",
     "output_type": "stream",
     "text": [
      "\n",
      "\n",
      "Rock, Paper, Scissors !!\n",
      "Choose your weapon [R]ock], [P]aper, [S]cissors, [E]xit: r\n",
      "You chose: r\n",
      "I chose: S\n",
      "You win!\n",
      "\n",
      "\n",
      "Rock, Paper, Scissors !!\n",
      "Choose your weapon [R]ock], [P]aper, [S]cissors, [E]xit: p\n",
      "You chose: p\n",
      "I chose: P\n",
      "Tie! \n",
      "\n",
      "\n",
      "Rock, Paper, Scissors !!\n",
      "Choose your weapon [R]ock], [P]aper, [S]cissors, [E]xit: p\n",
      "You chose: p\n",
      "I chose: S\n",
      "Scissors beats paper! I win! \n",
      "\n",
      "\n",
      "Rock, Paper, Scissors !!\n"
     ]
    }
   ],
   "source": [
    "while (1<2):              # creating a continuous loop\n",
    "    # Define Game\n",
    "    print (\"\\n\")\n",
    "    print (\"Rock, Paper, Scissors !!\")\n",
    "\n",
    "    # Taking input from user\n",
    "    userChoice = input(\"Choose your weapon [R]ock], [P]aper, [S]cissors, [E]xit: \")\n",
    "    \n",
    "    # Validating the user input\n",
    "    if (not re.match(\"[SsRrPpEe]\", userChoice)) or (len(userChoice) != 1):\n",
    "        print (\"Please choose a letter:\")\n",
    "        print (\"[R]ock, [S]cissors, [P]aper or [E]xit\")\n",
    "        continue\n",
    "\n",
    "    # Print the user's choice\n",
    "    print (\"You chose: \" + userChoice)\n",
    "\n",
    "    # Check if user wants to exit\n",
    "    if (userChoice == 'E' or userChoice == 'e' ):\n",
    "        print('Exiting Game..')\n",
    "        break\n",
    "\n",
    "    # Create a list of possible choices\n",
    "    choices = ['R', 'P', 'S']\n",
    "    \n",
    "    # Generating Computer's Choice\n",
    "    opponenetChoice = random.choice(choices)\n",
    "    \n",
    "    # Print Computer's Choice\n",
    "    print (\"I chose: \" + opponenetChoice)\n",
    "\n",
    "    # Check Computer's Choice and user's Choice by applying game logic\n",
    "    \n",
    "    if opponenetChoice == str.upper(userChoice):         # If both chose same value, it's a tie\n",
    "        print (\"Tie! \")\n",
    "    \n",
    "    elif opponenetChoice == 'R' and userChoice.upper() == 'S':            # Rock Vs Scissor - Rock/computer Wins\n",
    "        print (\"Scissors beats rock, I win! \")\n",
    "        continue\n",
    "    elif opponenetChoice == 'S' and userChoice.upper() == 'P':            # Scissor Vs Paper - Paper/computer Wins\n",
    "        print (\"Scissors beats paper! I win! \")\n",
    "        continue\n",
    "    elif opponenetChoice == 'P' and userChoice.upper() == 'R':            # Paper Vs Rock - Paper/computer Wins\n",
    "        print (\"Paper beat rock, I win! \")\n",
    "        continue\n",
    "    else:                                                                 # In all the other cases, user wins!\n",
    "        print (\"You win!\")"
   ]
  }
 ],
 "metadata": {
  "kernelspec": {
   "display_name": "Python 3",
   "language": "python",
   "name": "python3"
  },
  "language_info": {
   "codemirror_mode": {
    "name": "ipython",
    "version": 3
   },
   "file_extension": ".py",
   "mimetype": "text/x-python",
   "name": "python",
   "nbconvert_exporter": "python",
   "pygments_lexer": "ipython3",
   "version": "3.8.3"
  }
 },
 "nbformat": 4,
 "nbformat_minor": 4
}
